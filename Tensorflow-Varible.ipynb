{
 "cells": [
  {
   "cell_type": "markdown",
   "metadata": {},
   "source": [
    "# 简单运用"
   ]
  },
  {
   "cell_type": "markdown",
   "metadata": {},
   "source": [
    "这节课我们学习如何在 Tensorflow 中使用 Variable .\n",
    "\n",
    "在 Tensorflow 中，定义了某字符串是变量，它才是变量，这一点是与 Python 所不同的。\n",
    "\n",
    "定义语法： state = tf.Variable()"
   ]
  },
  {
   "cell_type": "code",
   "execution_count": 2,
   "metadata": {},
   "outputs": [
    {
     "name": "stdout",
     "output_type": "stream",
     "text": [
      "<tf.Variable 'counte:0' shape=() dtype=int32_ref>\n"
     ]
    }
   ],
   "source": [
    "import tensorflow as tf\n",
    "\n",
    "state = tf.Variable(0,name='counte')\n",
    "# print(state.name)\n"
   ]
  },
  {
   "cell_type": "code",
   "execution_count": 3,
   "metadata": {},
   "outputs": [],
   "source": [
    "# 定义常量 one\n",
    "one = tf.constant(1)\n",
    "\n",
    "# 定义加法步骤（注：此步并没有直接计算）\n",
    "new_value = tf.add(state,one)\n",
    "\n",
    "# 将State更新成new_value\n",
    "update = tf.assign(state,new_value)"
   ]
  },
  {
   "cell_type": "markdown",
   "metadata": {},
   "source": [
    "如果你在 Tensorflow 中设定了变量，那么初始化变量是最重要的！！所以定义了变量以后, 一定要定义 init = tf.initialize_all_variables() .\n",
    "到这里变量还是没有被激活，需要再在 sess 里, sess.run(init) , 激活 init 这一步."
   ]
  },
  {
   "cell_type": "code",
   "execution_count": 4,
   "metadata": {},
   "outputs": [
    {
     "name": "stdout",
     "output_type": "stream",
     "text": [
      "1\n",
      "2\n",
      "3\n"
     ]
    }
   ],
   "source": [
    "# init = tf.initialize_all_variables() # tf 马上就要废弃这种写法\n",
    "init = tf.global_variables_initializer()# 替换成这样就好\n",
    "\n",
    "# 使用Session\n",
    "with tf.Session() as sess:\n",
    "    sess.run(init)\n",
    "    for _ in range(3):\n",
    "        sess.run(update)\n",
    "        print(sess.run(state))"
   ]
  },
  {
   "cell_type": "markdown",
   "metadata": {},
   "source": [
    "注意：直接 print(state) 不起作用！！\n",
    "\n",
    "一定要把 sess 的指针指向 state 再进行 print 才能得到想要的结果！\n",
    "\n",
    "以上就是我们今天所学的 Variable 打开模式，欢迎继续学习下一章 ———— Tensorflow 中的 Placeholder。"
   ]
  }
 ],
 "metadata": {
  "kernelspec": {
   "display_name": "Python 3",
   "language": "python",
   "name": "python3"
  },
  "language_info": {
   "codemirror_mode": {
    "name": "ipython",
    "version": 3
   },
   "file_extension": ".py",
   "mimetype": "text/x-python",
   "name": "python",
   "nbconvert_exporter": "python",
   "pygments_lexer": "ipython3",
   "version": "3.5.5"
  }
 },
 "nbformat": 4,
 "nbformat_minor": 2
}
